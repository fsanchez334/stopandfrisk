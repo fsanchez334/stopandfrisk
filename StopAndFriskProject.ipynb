{
 "cells": [
  {
   "cell_type": "markdown",
   "metadata": {
    "id": "FWt4qxHjI9en"
   },
   "source": [
    "## Imports\n",
    "In this block of code, I am importing the dataset that I will use, as well as neccesary libraries for statistical analyses."
   ]
  },
  {
   "cell_type": "code",
   "execution_count": 1,
   "metadata": {
    "colab": {
     "base_uri": "https://localhost:8080/",
     "height": 404
    },
    "id": "vnCJXIqR21Dv",
    "outputId": "1baeb38e-38fb-4c1e-fc1b-b56114091e01"
   },
   "outputs": [
    {
     "data": {
      "text/html": [
       "<div>\n",
       "<style scoped>\n",
       "    .dataframe tbody tr th:only-of-type {\n",
       "        vertical-align: middle;\n",
       "    }\n",
       "\n",
       "    .dataframe tbody tr th {\n",
       "        vertical-align: top;\n",
       "    }\n",
       "\n",
       "    .dataframe thead th {\n",
       "        text-align: right;\n",
       "    }\n",
       "</style>\n",
       "<table border=\"1\" class=\"dataframe\">\n",
       "  <thead>\n",
       "    <tr style=\"text-align: right;\">\n",
       "      <th></th>\n",
       "      <th>STOP_FRISK_ID</th>\n",
       "      <th>Stop Frisk Time</th>\n",
       "      <th>YEAR2</th>\n",
       "      <th>MONTH2</th>\n",
       "      <th>DAY2</th>\n",
       "      <th>STOP_WAS_INITIATED</th>\n",
       "      <th>ISSUING_OFFICER_RANK</th>\n",
       "      <th>ISSUING_OFFICER_COMMAND_CODE</th>\n",
       "      <th>SUPERVISING_OFFICER_RANK</th>\n",
       "      <th>SUPERVISING_OFFICER_COMMAND_CODE</th>\n",
       "      <th>...</th>\n",
       "      <th>SUSPECT_SEX</th>\n",
       "      <th>SUSPECT_RACE_DESCRIPTION</th>\n",
       "      <th>SUSPECT_HEIGHT</th>\n",
       "      <th>SUSPECT_WEIGHT</th>\n",
       "      <th>SUSPECT_BODY_BUILD_TYPE</th>\n",
       "      <th>SUSPECT_EYE_COLOR</th>\n",
       "      <th>SUSPECT_HAIR_COLOR</th>\n",
       "      <th>STOP_LOCATION_PRECINCT</th>\n",
       "      <th>STOP_LOCATION_FULL_ADDRESS</th>\n",
       "      <th>STOP_LOCATION_BORO_NAME</th>\n",
       "    </tr>\n",
       "  </thead>\n",
       "  <tbody>\n",
       "    <tr>\n",
       "      <th>0</th>\n",
       "      <td>1</td>\n",
       "      <td>19:04:00</td>\n",
       "      <td>2018</td>\n",
       "      <td>January</td>\n",
       "      <td>Monday</td>\n",
       "      <td>Based on C/W on Scene</td>\n",
       "      <td>POM</td>\n",
       "      <td>1</td>\n",
       "      <td>SGT</td>\n",
       "      <td>1</td>\n",
       "      <td>...</td>\n",
       "      <td>MALE</td>\n",
       "      <td>WHITE</td>\n",
       "      <td>5.10</td>\n",
       "      <td>170.0</td>\n",
       "      <td>MED</td>\n",
       "      <td>BRO</td>\n",
       "      <td>BLK</td>\n",
       "      <td>1</td>\n",
       "      <td>VARICK STREET &amp;&amp; FRANKLIN STREET</td>\n",
       "      <td>MANHATTAN</td>\n",
       "    </tr>\n",
       "    <tr>\n",
       "      <th>1</th>\n",
       "      <td>2</td>\n",
       "      <td>23:00:00</td>\n",
       "      <td>2018</td>\n",
       "      <td>January</td>\n",
       "      <td>Monday</td>\n",
       "      <td>Based on Radio Run</td>\n",
       "      <td>POM</td>\n",
       "      <td>34</td>\n",
       "      <td>SGT</td>\n",
       "      <td>34</td>\n",
       "      <td>...</td>\n",
       "      <td>MALE</td>\n",
       "      <td>BLACK HISPANIC</td>\n",
       "      <td>6.10</td>\n",
       "      <td>250.0</td>\n",
       "      <td>HEA</td>\n",
       "      <td>BRO</td>\n",
       "      <td>BLK</td>\n",
       "      <td>34</td>\n",
       "      <td>DYCKMAN STREET &amp;&amp; POST AVENUE</td>\n",
       "      <td>MANHATTAN</td>\n",
       "    </tr>\n",
       "    <tr>\n",
       "      <th>2</th>\n",
       "      <td>3</td>\n",
       "      <td>23:55:00</td>\n",
       "      <td>2018</td>\n",
       "      <td>January</td>\n",
       "      <td>Monday</td>\n",
       "      <td>Based on Radio Run</td>\n",
       "      <td>POM</td>\n",
       "      <td>808</td>\n",
       "      <td>SGT</td>\n",
       "      <td>808</td>\n",
       "      <td>...</td>\n",
       "      <td>MALE</td>\n",
       "      <td>WHITE HISPANIC</td>\n",
       "      <td>5.50</td>\n",
       "      <td>150.0</td>\n",
       "      <td>THN</td>\n",
       "      <td>BRO</td>\n",
       "      <td>BLD</td>\n",
       "      <td>43</td>\n",
       "      <td>2245 RANDALL AVENUE</td>\n",
       "      <td>BRONX</td>\n",
       "    </tr>\n",
       "    <tr>\n",
       "      <th>3</th>\n",
       "      <td>4</td>\n",
       "      <td>3:23:00</td>\n",
       "      <td>2018</td>\n",
       "      <td>January</td>\n",
       "      <td>Monday</td>\n",
       "      <td>Based on Radio Run</td>\n",
       "      <td>POM</td>\n",
       "      <td>63</td>\n",
       "      <td>SGT</td>\n",
       "      <td>63</td>\n",
       "      <td>...</td>\n",
       "      <td>MALE</td>\n",
       "      <td>AMERICAN INDIAN/ALASKAN NATIVE</td>\n",
       "      <td>5.10</td>\n",
       "      <td>160.0</td>\n",
       "      <td>MED</td>\n",
       "      <td>BRO</td>\n",
       "      <td>BLK</td>\n",
       "      <td>63</td>\n",
       "      <td>EAST 38 STREET &amp;&amp; AVENUE L</td>\n",
       "      <td>BROOKLYN</td>\n",
       "    </tr>\n",
       "    <tr>\n",
       "      <th>4</th>\n",
       "      <td>5</td>\n",
       "      <td>3:23:00</td>\n",
       "      <td>2018</td>\n",
       "      <td>January</td>\n",
       "      <td>Monday</td>\n",
       "      <td>Based on Radio Run</td>\n",
       "      <td>POM</td>\n",
       "      <td>63</td>\n",
       "      <td>SGT</td>\n",
       "      <td>63</td>\n",
       "      <td>...</td>\n",
       "      <td>MALE</td>\n",
       "      <td>WHITE</td>\n",
       "      <td>5.11</td>\n",
       "      <td>230.0</td>\n",
       "      <td>MED</td>\n",
       "      <td>BRO</td>\n",
       "      <td>BLK</td>\n",
       "      <td>63</td>\n",
       "      <td>EAST 38 STREET &amp;&amp; AVENUE L</td>\n",
       "      <td>BROOKLYN</td>\n",
       "    </tr>\n",
       "  </tbody>\n",
       "</table>\n",
       "<p>5 rows × 59 columns</p>\n",
       "</div>"
      ],
      "text/plain": [
       "   STOP_FRISK_ID Stop Frisk Time  YEAR2   MONTH2    DAY2  \\\n",
       "0              1        19:04:00   2018  January  Monday   \n",
       "1              2        23:00:00   2018  January  Monday   \n",
       "2              3        23:55:00   2018  January  Monday   \n",
       "3              4         3:23:00   2018  January  Monday   \n",
       "4              5         3:23:00   2018  January  Monday   \n",
       "\n",
       "      STOP_WAS_INITIATED ISSUING_OFFICER_RANK  ISSUING_OFFICER_COMMAND_CODE  \\\n",
       "0  Based on C/W on Scene                  POM                             1   \n",
       "1     Based on Radio Run                  POM                            34   \n",
       "2     Based on Radio Run                  POM                           808   \n",
       "3     Based on Radio Run                  POM                            63   \n",
       "4     Based on Radio Run                  POM                            63   \n",
       "\n",
       "  SUPERVISING_OFFICER_RANK  SUPERVISING_OFFICER_COMMAND_CODE  ...  \\\n",
       "0                      SGT                                 1  ...   \n",
       "1                      SGT                                34  ...   \n",
       "2                      SGT                               808  ...   \n",
       "3                      SGT                                63  ...   \n",
       "4                      SGT                                63  ...   \n",
       "\n",
       "   SUSPECT_SEX        SUSPECT_RACE_DESCRIPTION  SUSPECT_HEIGHT  \\\n",
       "0         MALE                           WHITE            5.10   \n",
       "1         MALE                  BLACK HISPANIC            6.10   \n",
       "2         MALE                  WHITE HISPANIC            5.50   \n",
       "3         MALE  AMERICAN INDIAN/ALASKAN NATIVE            5.10   \n",
       "4         MALE                           WHITE            5.11   \n",
       "\n",
       "   SUSPECT_WEIGHT SUSPECT_BODY_BUILD_TYPE  SUSPECT_EYE_COLOR  \\\n",
       "0           170.0                     MED                BRO   \n",
       "1           250.0                     HEA                BRO   \n",
       "2           150.0                     THN                BRO   \n",
       "3           160.0                     MED                BRO   \n",
       "4           230.0                     MED                BRO   \n",
       "\n",
       "  SUSPECT_HAIR_COLOR  STOP_LOCATION_PRECINCT  \\\n",
       "0                BLK                       1   \n",
       "1                BLK                      34   \n",
       "2                BLD                      43   \n",
       "3                BLK                      63   \n",
       "4                BLK                      63   \n",
       "\n",
       "         STOP_LOCATION_FULL_ADDRESS  STOP_LOCATION_BORO_NAME  \n",
       "0  VARICK STREET && FRANKLIN STREET                MANHATTAN  \n",
       "1     DYCKMAN STREET && POST AVENUE                MANHATTAN  \n",
       "2               2245 RANDALL AVENUE                    BRONX  \n",
       "3        EAST 38 STREET && AVENUE L                 BROOKLYN  \n",
       "4        EAST 38 STREET && AVENUE L                 BROOKLYN  \n",
       "\n",
       "[5 rows x 59 columns]"
      ]
     },
     "execution_count": 1,
     "metadata": {},
     "output_type": "execute_result"
    }
   ],
   "source": [
    "import pandas as pd\n",
    "import matplotlib.pyplot as plt\n",
    "import numpy as np\n",
    "from collections import defaultdict\n",
    "from copy import deepcopy\n",
    "from statsmodels.regression.linear_model import OLS\n",
    "import statsmodels.api as sm\n",
    "from scipy import stats\n",
    "from logging import raiseExceptions\n",
    "from collections import defaultdict\n",
    "\n",
    "#The code reads the file and stores it in a dataframe, in which we look at the head (first few rows of the dataframe)\n",
    "data = pd.read_csv(\"2018_sqf_database-abbr.csv\")\n",
    "data.head()"
   ]
  },
  {
   "cell_type": "markdown",
   "metadata": {
    "id": "8IgerGrtJOcQ"
   },
   "source": [
    "## Subsetting The Dataframe\n",
    "In this block of code, I am subsetting the dataframe based on columns of interests that pertain to the project"
   ]
  },
  {
   "cell_type": "code",
   "execution_count": 2,
   "metadata": {
    "id": "1zDuSBCOW76p"
   },
   "outputs": [],
   "source": [
    "#This block of code looks at the column names and extracts only the important ones based on certain words of interest\n",
    "columns = data.columns\n",
    "keywords = {\"STOP\", \"SUSPECT\", \"SUSPECTED\",\"MINUTES\", \"FLAG\", \"PHYSICAL\", \"FORCE\", \"BACKGROUND\", \"RACE\", \"AGE\", \"BORO\"}\n",
    "container = []\n",
    "for titles in columns:\n",
    "  splitter = set(titles.split(\"_\"))\n",
    "  #Check for intersection\n",
    "  checker = keywords.intersection(splitter)\n",
    "  if len(checker) > 0:\n",
    "    container.append(titles)\n",
    "#Based on our keywords, we can then continue to form a subset of the datafame\n",
    "updated_dataframe = data[container]\n",
    "cleaner = updated_dataframe[\"SUSPECT_RACE_DESCRIPTION\"] != \"0\"\n",
    "updated_dataframe = updated_dataframe[cleaner]\n",
    "updated_dataframe = updated_dataframe.dropna()"
   ]
  },
  {
   "cell_type": "markdown",
   "metadata": {
    "id": "95VzM0E1JZUM"
   },
   "source": [
    "## Functions\n",
    "The following functions has custom made functions and the functions provided by Daiki in the lab for statistical analyses. I will use these functions in different parts of my code to help with the analysis as I see fit."
   ]
  },
  {
   "cell_type": "code",
   "execution_count": 3,
   "metadata": {
    "id": "e6YUuEhB9rrx"
   },
   "outputs": [],
   "source": [
    "#In this block, I am incorporating the functions that will be useful in further analysis\n",
    "#The following is a function I borrowed from lab that will allow us to get the mean of the data we pass in\n",
    "def CI_mean(data):\n",
    "    se = np.std(data)/np.sqrt(len(data))\n",
    "    low = np.mean(data)-1.96*se\n",
    "    up = np.mean(data)+1.96*se\n",
    "    average_info = \"Average is: {}\".format(np.mean(data))\n",
    "    confidence_info = \"95% CI of mean is: ({}, {})\".format(low,up)\n",
    "    return average_info, confidence_info\n",
    "\n",
    "def CI_mean_diff(list1, list2):\n",
    "    s1 = np.var(list1)\n",
    "    s2 = np.var(list2)\n",
    "    n1 = len(list1)\n",
    "    n2 = len(list2)\n",
    "    se2 = s1/n1 + s2/n2\n",
    "    se = np.sqrt(se2)\n",
    "\n",
    "    diff = np.mean(list1) - np.mean(list2)\n",
    "    low = diff - 1.96 * se\n",
    "    up = diff + 1.96 * se\n",
    "    average_information = \"The average difference is: {}\".format(diff)\n",
    "    confidence_interval = \"The 95% CI is: ({}, {})\".format(low, up)\n",
    "    return [average_information, confidence_interval]\n",
    "\n",
    "def CI_prop_diff(s1, s2, n1, n2):\n",
    "    p1 = s1 / n1\n",
    "    p2 = s2 / n2\n",
    "    se2p1 = p1 * (1 - p1) / n1\n",
    "    se2p2 = p2 * (1 - p2) / n2\n",
    "    se2 = se2p1 + se2p2\n",
    "    se = np.sqrt(se2)\n",
    "    low = (p1 - p2) - 1.96 * se\n",
    "    up = (p1 - p2) + 1.96 * se\n",
    "    prop_diff = \"Proportion difference is: {}\".format(p1 - p2)\n",
    "    confidence_int = \"95% CI is: ({}, {})\".format(low, up)\n",
    "    return prop_diff, confidence_int\n",
    "\n",
    "def group_information(race1, race2, contained_):\n",
    "  races = [race1, race2]\n",
    "  information = []\n",
    "  for race in races:\n",
    "    race_bool = contained_['SUSPECT_RACE_DESCRIPTION'] == race\n",
    "    average_, confidence_info_ = CI_mean(contained_[race_bool][\"STOP_DURATION_MINUTES\"])\n",
    "    formed = average_ + ' and the ' + confidence_info_\n",
    "    information.append(formed)\n",
    "  return information\n",
    "\n",
    "def counter_altercations(dataframe, list_of_races):\n",
    "  tracker = defaultdict(lambda: [])\n",
    "  for race in list_of_races:\n",
    "    race_booler = dataframe[\"SUSPECT_RACE_DESCRIPTION\"] == race\n",
    "    updated_df = dataframe[race_booler]\n",
    "    physical_flags = updated_df.columns[1:]\n",
    "    summation = updated_df[physical_flags].sum(axis=1)\n",
    "    if 2 in summation.value_counts():\n",
    "      difference = len(summation) - summation.value_counts()[2]\n",
    "      tracker[race] = (difference, len(updated_df))\n",
    "    else:\n",
    "      tracker[race] = (len(summation), len(updated_df))\n",
    "  container = list(tracker.values())\n",
    "  listers = []\n",
    "  for i in range(len(list_of_races)):\n",
    "    no_force = container[i][1] - container[i][0]\n",
    "    listers.append([list_of_races[i], container[i][0], no_force])\n",
    "  \n",
    "  #Make dataframe\n",
    "  finale = pd.DataFrame(listers, columns = [\"Race\", \"Incidents Involving More than 2 Types of Physical Force\", \"Incidents with No Force\"])\n",
    "  return finale"
   ]
  },
  {
   "cell_type": "markdown",
   "metadata": {
    "id": "PkagU8rRJqd0"
   },
   "source": [
    "###First Visualization: Pie Chart - Percentage of people who were arrested through Stop and Frisk (By Race)\n",
    "The following code breaks down the dataframe by race and calculates the total number of people that were arrested. Afterward, it subset the total by race\n"
   ]
  },
  {
   "cell_type": "code",
   "execution_count": 4,
   "metadata": {
    "colab": {
     "base_uri": "https://localhost:8080/",
     "height": 515
    },
    "id": "pUOjXYyeL3wD",
    "outputId": "393a6350-e404-4866-b18b-82fba3496036"
   },
   "outputs": [
    {
     "data": {
      "image/png": "[encoded data removed]",
      "text/plain": [
       "<Figure size 432x288 with 1 Axes>"
      ]
     },
     "metadata": {},
     "output_type": "display_data"
    },
    {
     "data": {
      "text/html": [
       "<div>\n",
       "<style scoped>\n",
       "    .dataframe tbody tr th:only-of-type {\n",
       "        vertical-align: middle;\n",
       "    }\n",
       "\n",
       "    .dataframe tbody tr th {\n",
       "        vertical-align: top;\n",
       "    }\n",
       "\n",
       "    .dataframe thead th {\n",
       "        text-align: right;\n",
       "    }\n",
       "</style>\n",
       "<table border=\"1\" class=\"dataframe\">\n",
       "  <thead>\n",
       "    <tr style=\"text-align: right;\">\n",
       "      <th></th>\n",
       "      <th>SUSPECT_ARRESTED_FLAG</th>\n",
       "    </tr>\n",
       "    <tr>\n",
       "      <th>SUSPECT_RACE_DESCRIPTION</th>\n",
       "      <th></th>\n",
       "    </tr>\n",
       "  </thead>\n",
       "  <tbody>\n",
       "    <tr>\n",
       "      <th>AMERICAN INDIAN/ALASKAN NATIVE</th>\n",
       "      <td>4</td>\n",
       "    </tr>\n",
       "    <tr>\n",
       "      <th>ASIAN / PACIFIC ISLANDER</th>\n",
       "      <td>49</td>\n",
       "    </tr>\n",
       "    <tr>\n",
       "      <th>BLACK</th>\n",
       "      <td>1658</td>\n",
       "    </tr>\n",
       "    <tr>\n",
       "      <th>BLACK HISPANIC</th>\n",
       "      <td>249</td>\n",
       "    </tr>\n",
       "    <tr>\n",
       "      <th>WHITE</th>\n",
       "      <td>293</td>\n",
       "    </tr>\n",
       "    <tr>\n",
       "      <th>WHITE HISPANIC</th>\n",
       "      <td>764</td>\n",
       "    </tr>\n",
       "  </tbody>\n",
       "</table>\n",
       "</div>"
      ],
      "text/plain": [
       "                                SUSPECT_ARRESTED_FLAG\n",
       "SUSPECT_RACE_DESCRIPTION                             \n",
       "AMERICAN INDIAN/ALASKAN NATIVE                      4\n",
       "ASIAN / PACIFIC ISLANDER                           49\n",
       "BLACK                                            1658\n",
       "BLACK HISPANIC                                    249\n",
       "WHITE                                             293\n",
       "WHITE HISPANIC                                    764"
      ]
     },
     "execution_count": 4,
     "metadata": {},
     "output_type": "execute_result"
    }
   ],
   "source": [
    "\n",
    "#In this block, I only focus on the race of the different individuals and whether or not they were arrested. From there, I group \n",
    "#all of the values to get the count of individuals. I eliminated some rows because their race was marked as 0\n",
    "suspect_race = updated_dataframe[[\"SUSPECT_RACE_DESCRIPTION\", \"SUSPECT_ARRESTED_FLAG\"]]\n",
    "weird_boolean = suspect_race[\"SUSPECT_RACE_DESCRIPTION\"] != \"0\"\n",
    "arrested = suspect_race[(suspect_race[\"SUSPECT_RACE_DESCRIPTION\"] != \"0\") & (suspect_race[\"SUSPECT_ARRESTED_FLAG\"] == 1)]\n",
    "arrested_improved = arrested.groupby(suspect_race[\"SUSPECT_RACE_DESCRIPTION\"]).sum()\n",
    "\n",
    "#Step 1: Manually calculate the percentages of people arrested by race\n",
    "container = [lister[0] for lister in arrested_improved.values]\n",
    "summation = sum(container)\n",
    "updated_percentages = [(number/summation) for number in container]\n",
    "\n",
    "#Step 2: Concatenate labels with their percentages in order to place these in the legend \n",
    "#Key Explanation: Due to the presence of small pie slices, it was difficult to illustrate the percentages within the pie without having a cluster\n",
    "#Therefore, I thought it best to include the percentages in the legend, as I think this is neater\n",
    "\n",
    "labels_finalized = []\n",
    "for i in range(len(updated_percentages)):\n",
    "  stringer = arrested_improved.index[i] + \" \" + \"[\" + \"{:.2%}\".format(updated_percentages[i])+ \"]\"\n",
    "  labels_finalized.append(stringer)\n",
    "\n",
    "#Step 3: Illustrate the pie chart\n",
    "plt.pie(x=arrested_improved[\"SUSPECT_ARRESTED_FLAG\"], radius = 10, startangle = 90, )\n",
    "plt.title(\"Percentage of People Arrested by Race\")\n",
    "plt.legend(labels = labels_finalized, bbox_to_anchor=(1.05, 0.6), loc='upper left', borderaxespad=0)\n",
    "plt.axis(\"equal\")\n",
    "plt.show()\n",
    "arrested_improved\n"
   ]
  },
  {
   "cell_type": "markdown",
   "metadata": {
    "id": "806PP7g5J7MW"
   },
   "source": [
    "## First Hypothesis Test: Chi Squared Test\n",
    "In the first hypothesis testing, I am comparing the proportions of Black and White Hispanic Suspects that were arrested as a result of a Stop and Frisk interaction"
   ]
  },
  {
   "cell_type": "code",
   "execution_count": 5,
   "metadata": {
    "colab": {
     "base_uri": "https://localhost:8080/",
     "height": 241
    },
    "id": "Im-VaFIO6pso",
    "outputId": "3f8e9b6f-8873-4a58-fbd5-43f374bda000"
   },
   "outputs": [
    {
     "name": "stdout",
     "output_type": "stream",
     "text": [
      "Proportion difference is: 0.08566500574932924\n",
      "95% CI is: (0.07705296149779524, 0.09427705000086324)\n",
      "chi2: 372.474438872217\n",
      "p: 5.412985341313904e-83\n",
      "dof: 1\n",
      "expected: [[1211. 9225.]\n",
      " [1211. 9225.]]\n"
     ]
    },
    {
     "data": {
      "text/html": [
       "<div>\n",
       "<style scoped>\n",
       "    .dataframe tbody tr th:only-of-type {\n",
       "        vertical-align: middle;\n",
       "    }\n",
       "\n",
       "    .dataframe tbody tr th {\n",
       "        vertical-align: top;\n",
       "    }\n",
       "\n",
       "    .dataframe thead th {\n",
       "        text-align: right;\n",
       "    }\n",
       "</style>\n",
       "<table border=\"1\" class=\"dataframe\">\n",
       "  <thead>\n",
       "    <tr style=\"text-align: right;\">\n",
       "      <th></th>\n",
       "      <th>Race</th>\n",
       "      <th>Arrested</th>\n",
       "      <th>Not Arrested</th>\n",
       "      <th>Total</th>\n",
       "      <th>Proportion</th>\n",
       "    </tr>\n",
       "  </thead>\n",
       "  <tbody>\n",
       "    <tr>\n",
       "      <th>0</th>\n",
       "      <td>BLACK</td>\n",
       "      <td>1658</td>\n",
       "      <td>8778</td>\n",
       "      <td>10436</td>\n",
       "      <td>0.158873</td>\n",
       "    </tr>\n",
       "    <tr>\n",
       "      <th>1</th>\n",
       "      <td>WHITE HISPANIC</td>\n",
       "      <td>764</td>\n",
       "      <td>9672</td>\n",
       "      <td>10436</td>\n",
       "      <td>0.073208</td>\n",
       "    </tr>\n",
       "  </tbody>\n",
       "</table>\n",
       "</div>"
      ],
      "text/plain": [
       "             Race  Arrested  Not Arrested  Total  Proportion\n",
       "0           BLACK      1658          8778  10436    0.158873\n",
       "1  WHITE HISPANIC       764          9672  10436    0.073208"
      ]
     },
     "execution_count": 5,
     "metadata": {},
     "output_type": "execute_result"
    }
   ],
   "source": [
    "#Hypothesis Testing for the first visual:\n",
    "arrested = updated_dataframe[[\"SUSPECT_RACE_DESCRIPTION\", \"SUSPECT_ARRESTED_FLAG\"]]\n",
    "\n",
    "#Labels for the dataframe\n",
    "labels = [\"Race\", \"Arrested\", \"Not Arrested\", \"Total\", \"Proportion\"]\n",
    "container = []\n",
    "races = [\"BLACK\", \"WHITE HISPANIC\"]\n",
    "for race in races:\n",
    "  arrested_boolean = (arrested[\"SUSPECT_RACE_DESCRIPTION\"] == race) & (arrested[\"SUSPECT_ARRESTED_FLAG\"] == 1)\n",
    "  free_boolean = (arrested[\"SUSPECT_RACE_DESCRIPTION\"] == race ) & arrested[\"SUSPECT_ARRESTED_FLAG\"] == 0\n",
    "  sub_arrested = len(arrested[arrested_boolean])\n",
    "  sub_free = len(arrested[free_boolean])\n",
    "  total = sub_arrested + sub_free\n",
    "  prop = sub_arrested / total\n",
    "  row = [race, sub_arrested, sub_free, total, prop]\n",
    "  container.append(row)\n",
    "\n",
    "\n",
    "\n",
    "data_frame = pd.DataFrame(container, columns = labels)\n",
    "\n",
    "#Let's calculate the proportion difference\n",
    "prop_diff, interval = CI_prop_diff(s1=1658, s2=764, n1=10436, n2=10436)\n",
    "print(prop_diff)\n",
    "print(interval)\n",
    "tablet = data_frame[[\"Arrested\", \"Not Arrested\"]]\n",
    "chi2, p, dof, expected = stats.chi2_contingency(tablet)\n",
    "print(\"chi2:\", chi2)\n",
    "print(\"p:\", p)\n",
    "print(\"dof:\", dof)\n",
    "print(\"expected:\", expected)\n",
    "data_frame\n",
    "#RELATED TO THE FIRST (1)\n",
    "#Among the two groups that were arrested the most, there is a statistical significance"
   ]
  },
  {
   "cell_type": "markdown",
   "metadata": {
    "id": "FpWiqhBuKT9t"
   },
   "source": [
    "## Second Visualization: Grouped Bar Chart: Number of People Arrested in Each Borough by Race"
   ]
  },
  {
   "cell_type": "code",
   "execution_count": 6,
   "metadata": {
    "colab": {
     "base_uri": "https://localhost:8080/",
     "height": 415
    },
    "id": "o0reG-JRvZHI",
    "outputId": "c477a031-9f8c-49a3-d2b5-b5bc3c358436"
   },
   "outputs": [
    {
     "data": {
      "image/png": "[encoded data removed]",
      "text/plain": [
       "<Figure size 720x432 with 1 Axes>"
      ]
     },
     "metadata": {
      "needs_background": "light"
     },
     "output_type": "display_data"
    }
   ],
   "source": [
    "#In this block, I am only focusing on three categories, and I am only considering those with a race (not 0) and individuals that were arrested in all of the boroughs\n",
    "borough_names = \"STOP_LOCATION_BORO_NAME\"\n",
    "race = \"SUSPECT_RACE_DESCRIPTION\"\n",
    "arrested_title = \"SUSPECT_ARRESTED_FLAG\"\n",
    "data_two = updated_dataframe[[borough_names, race, arrested_title]]\n",
    "data_two = data_two.dropna()\n",
    "data_two = data_two[(data_two[race] != \"0\") & (data_two[arrested_title] == 1)]\n",
    "\n",
    "\n",
    "#In here, I am grouping the data by race and counting how many of each individuals are appearing in the dataframe and sort the names of the borough\n",
    "x_axis = list(set(data_two[\"STOP_LOCATION_BORO_NAME\"]))\n",
    "x_axis.sort()\n",
    "race_view = data_two.groupby(data_two[\"SUSPECT_RACE_DESCRIPTION\"]).sum()\n",
    "races = race_view.index\n",
    "dictionary = defaultdict(lambda: [])\n",
    "#In here, I count how many arrests took place in each borough\n",
    "for borough in x_axis:\n",
    "  for s in races:\n",
    "    subview = data_two[(data_two[race] == s) & (data_two[borough_names] == borough)]\n",
    "    dictionary[s].append(subview.shape[0])\n",
    "\n",
    "#In her, I begin extracting the data I stored to accss the data I will need to plot \n",
    "labels = x_axis # Specify the x-axis labels here\n",
    "data1 = dictionary['AMERICAN INDIAN/ALASKAN NATIVE'] # List of data from 1st category\n",
    "data2 = dictionary['ASIAN / PACIFIC ISLANDER'] # List of data from 2nd category\n",
    "data3 = dictionary['BLACK']\n",
    "data4 = dictionary['BLACK HISPANIC']\n",
    "data5 = dictionary['WHITE']\n",
    "data6 = dictionary['WHITE HISPANIC']\n",
    "\n",
    "x = np.arange(len(labels))\n",
    "width = 0.1\n",
    "fig, axs = plt.subplots(figsize=(10,6))\n",
    "# I label each bar with the race data it reresents\n",
    "one_bar = axs.bar(x - 0.2, data1, width, label='AMERICAN INDIAN/ALASKAN NATIVE', color='orange')\n",
    "two_bar = axs.bar(x - 0.1, data2, width, label='ASIAN / PACIFIC ISLANDER', color='tomato')\n",
    "three_bar = axs.bar(x, data3, width, label='BLACK', color='red')\n",
    "fourth_bar = axs.bar(x + 0.1, data4, width, label='BLACK HISPANIC', color='blue')\n",
    "fifth_bar = axs.bar(x + 0.2, data5, width, label='WHITE', color='teal')\n",
    "sixth_bar = axs.bar(x + 0.3, data6, width, label='WHITE HISPANIC', color='cyan')\n",
    "\n",
    "\n",
    "axs.set_ylabel('Number Arrested', fontsize=14)\n",
    "axs.set_xlabel('Borough', fontsize=14)\n",
    "axs.set_title('Arrests Per Borough By Race',fontsize=20, fontweight='bold')\n",
    "axs.set_xticks(x)\n",
    "axs.set_xticklabels(labels, fontsize=12)\n",
    "axs.legend(bbox_to_anchor=(1.05, 0.9), loc='upper left', borderaxespad=0, fontsize=14)\n",
    "axs.spines['right'].set_visible(False)\n",
    "axs.spines['top'].set_visible(False)\n",
    "\n",
    "values = [*data1, *data2, *data3, *data4, *data5, *data6]\n",
    "#In this for loop, I use the derefernced list to assign text value to the bars \n",
    "for rect, number in zip(axs.patches, values):\n",
    "    height = rect.get_height()\n",
    "    axs.text(\n",
    "        rect.get_x() + rect.get_width() / 2, height + 5, number, ha=\"center\", va=\"bottom\"\n",
    "    )\n",
    "plt.grid(axis='y')\n",
    "plt.show()\n"
   ]
  },
  {
   "cell_type": "markdown",
   "metadata": {
    "id": "raq5Rr8QKg1R"
   },
   "source": [
    "## Second Hypothesis Testing: Two Sample t-test\n",
    "In this hypothesis testing, I am going to compare the average number of arrests of Brooklyn and Staten Island"
   ]
  },
  {
   "cell_type": "code",
   "execution_count": 7,
   "metadata": {
    "colab": {
     "base_uri": "https://localhost:8080/"
    },
    "id": "b9Psyi7t-Mwu",
    "outputId": "49bdf10a-b1a3-4106-81b7-8bb8a8a04f80"
   },
   "outputs": [
    {
     "name": "stdout",
     "output_type": "stream",
     "text": [
      "For Brooklyn\n",
      "Average is: 146.83333333333334\n",
      "95% CI of mean is: (-22.365757658883865, 316.03242432555055)\n",
      "\n",
      "\n",
      "For Staten Island\n",
      "Average is: 19.833333333333332\n",
      "95% CI of mean is: (2.0462408430116135, 37.620425823655054)\n",
      "\n",
      "\n",
      "The average difference is: 127.00000000000001\n",
      "The 95% CI is: (-43.13145814884395, 297.131458148844)\n",
      "Test statistic: 1.3356250170471717\n",
      "p-value: 0.23806632576689862\n"
     ]
    }
   ],
   "source": [
    "#Hypothesis Testing Related to the Graph Above\n",
    "#Final Hypothesis Test: \n",
    "def top_borough(dataframe, borough_names, race_groups):\n",
    "  total_arrests = []\n",
    "  number_boroughs = len(borough_names)\n",
    "  \n",
    "  for borough in borough_names:\n",
    "    borough_boolean = (dataframe[\"STOP_LOCATION_BORO_NAME\"] == borough) & (dataframe[\"SUSPECT_ARRESTED_FLAG\"] == 1)\n",
    "    updated_ = dataframe[borough_boolean]\n",
    "    race_arrests_count = []\n",
    "    for race in race_groups:\n",
    "      race_bool = updated_[\"SUSPECT_RACE_DESCRIPTION\"] == race\n",
    "      updated_with_race = updated_[race_bool]\n",
    "      race_arrests_count.append(len(updated_with_race))\n",
    "    total_arrests.append((borough, race_arrests_count))\n",
    "  return total_arrests\n",
    "\n",
    "boro_arrested = updated_dataframe[[\"STOP_LOCATION_BORO_NAME\", \"SUSPECT_ARRESTED_FLAG\", \"SUSPECT_RACE_DESCRIPTION\"]]\n",
    "boro_arrested = boro_arrested.dropna()\n",
    "#Now, let's see which borough had the most arrests\n",
    "borough_names = list(set(boro_arrested[\"STOP_LOCATION_BORO_NAME\"].values))\n",
    "races = list(set(boro_arrested[\"SUSPECT_RACE_DESCRIPTION\"].values))\n",
    "keeper = top_borough(boro_arrested, borough_names, races)\n",
    "data = [tuplets[1] for tuplets in keeper]\n",
    "#Construct the dataframe\n",
    "df = pd.DataFrame()\n",
    "for i in range(len(data)):\n",
    "  df.insert(i, borough_names[i], data[i])\n",
    "\n",
    "#Find the average between Manhattan and Queens\n",
    "df[\"Total\"] = df[\"QUEENS\"] + df[\"STATEN ISLAND\"] + df[\"BROOKLYN\"] + df[\"BRONX\"] + df[\"MANHATTAN\"]\n",
    "\n",
    "#Mean Information for Manhattan \n",
    "avg_man, ci_man = CI_mean(df[\"BROOKLYN\"])\n",
    "print(\"For Brooklyn\")\n",
    "print(avg_man)\n",
    "print(ci_man)\n",
    "print(\"\\n\")\n",
    "#Mean Information for Queens\n",
    "avg_queen, ci_queen = CI_mean(df[\"STATEN ISLAND\"])\n",
    "print(\"For Staten Island\")\n",
    "print(avg_queen)\n",
    "print(ci_queen)\n",
    "print(\"\\n\")\n",
    "#Mean Difference\n",
    "contained_borough_info = CI_mean_diff(df[\"BROOKLYN\"],df[\"STATEN ISLAND\"])\n",
    "print(contained_borough_info[0])\n",
    "print(contained_borough_info[1])\n",
    "\n",
    "#Finding the p-value\n",
    "t_val, p_val = stats.ttest_ind(df[\"BROOKLYN\"],df[\"STATEN ISLAND\"], equal_var=False)\n",
    "\n",
    "print(\"Test statistic:\", t_val)\n",
    "print(\"p-value:\", p_val)\n",
    "\n",
    "\n",
    "#No difference between the number of arrrest that occured in both boroughs"
   ]
  },
  {
   "cell_type": "markdown",
   "metadata": {
    "id": "7TVro5MwKyrL"
   },
   "source": [
    "## Third Visualization: Grouped Histogram - Age of Suspects Arrested By Race\n"
   ]
  },
  {
   "cell_type": "code",
   "execution_count": 8,
   "metadata": {
    "colab": {
     "base_uri": "https://localhost:8080/",
     "height": 531
    },
    "id": "VW2BiY3IR5XX",
    "outputId": "53a97db1-964c-4b17-bdec-a038bbe6597f"
   },
   "outputs": [
    {
     "data": {
      "image/png": "[encoded data removed]",
      "text/plain": [
       "<Figure size 864x576 with 1 Axes>"
      ]
     },
     "metadata": {
      "needs_background": "light"
     },
     "output_type": "display_data"
    }
   ],
   "source": [
    "data_ = data\n",
    "subset_age = updated_dataframe[\"SUSPECT_REPORTED_AGE\"]\n",
    "#Filter out the ones with no race and the ones with 0 age (just in case)\n",
    "filter_one = updated_dataframe[\"SUSPECT_REPORTED_AGE\"] != 0\n",
    "filter_two = updated_dataframe[\"SUSPECT_RACE_DESCRIPTION\"] != \"0\"\n",
    "filter_three = updated_dataframe[\"SUSPECT_ARRESTED_FLAG\"] == 1\n",
    "updated_df = updated_dataframe[(filter_one) & (filter_two) & (filter_three)]\n",
    "updated_df = updated_df[[\"SUSPECT_REPORTED_AGE\", \"SUSPECT_ARRESTED_FLAG\", \"SUSPECT_RACE_DESCRIPTION\"]]\n",
    "\n",
    "race_category = updated_df.groupby(updated_df[\"SUSPECT_RACE_DESCRIPTION\"]).sum().index\n",
    "dataframes = []\n",
    "for race in race_category:\n",
    "  holder = updated_df[updated_df[\"SUSPECT_RACE_DESCRIPTION\"] == race][\"SUSPECT_REPORTED_AGE\"]\n",
    "  dataframes.append(holder)\n",
    "\n",
    "#Here I am creating the grouped_histogram\n",
    "fig, axs = plt.subplots(figsize=(12,8))\n",
    "axs.hist(dataframes[0], color=\"brown\", alpha=0.1, label= race_category[0])\n",
    "axs.hist(dataframes[1], color=\"red\", alpha=0.45, label= race_category[1])\n",
    "axs.hist(dataframes[2], color=\"green\", alpha=0.32, label=race_category[2])\n",
    "axs.hist(dataframes[3], color=\"blue\", alpha=0.3, label=race_category[3])\n",
    "axs.hist(dataframes[4], color=\"magenta\", alpha=0.45, label=race_category[4])\n",
    "axs.hist(dataframes[5], color=\"coral\", alpha=0.5, label=race_category[5])\n",
    "plt.title(\"Age of People Arrested by Race\", fontsize=20)\n",
    "axs.set_xlabel(\"Ages\", fontsize=18)\n",
    "axs.set_ylabel(\"Frequency\", fontsize=18)\n",
    "axs.tick_params(labelsize=15)\n",
    "axs.legend(prop={'size': 15})\n",
    "\n",
    "#Adding the lines for the means\n",
    "axs.axvline(np.mean(dataframes[1]), color='red', ls='dashed', lw=2)\n",
    "axs.axvline(np.mean(dataframes[2]), color='green', ls='dashed', lw=2)\n",
    "axs.axvline(np.mean(dataframes[3]), color='blue', ls='dashed', lw=2)\n",
    "axs.axvline(np.mean(dataframes[4]), color='magenta', ls='dashed', lw=2)\n",
    "axs.axvline(np.mean(dataframes[5]), color='coral', ls='dashed', lw=2)\n",
    "\n",
    "plt.xlim(0, 80)\n",
    "plt.show()"
   ]
  },
  {
   "cell_type": "markdown",
   "metadata": {
    "id": "Zc6gUoNGLkT1"
   },
   "source": [
    "## Third Hypothesis Testing: Two-Sample t-test\n",
    "In this hypothesis testing, I am comparing the average age of Black Hispanic and White suspects to determine if there is a significant difference in the both the race and age of suspects detained in stop and frisk stops.  "
   ]
  },
  {
   "cell_type": "code",
   "execution_count": 9,
   "metadata": {
    "colab": {
     "base_uri": "https://localhost:8080/"
    },
    "id": "T443mhNgB73g",
    "outputId": "39e8e30a-f658-476e-8953-94e0e4a2ce60"
   },
   "outputs": [
    {
     "name": "stdout",
     "output_type": "stream",
     "text": [
      "For Black Hispanic Suspects:\n",
      "Average is: 28.78048780487805\n",
      "95% CI of mean is: (27.255425064407014, 30.305550545349085)\n",
      "\n",
      "\n",
      "For White Suspects:\n",
      "Average is: 33.06993006993007\n",
      "95% CI of mean is: (31.660569107707957, 34.479291032152176)\n",
      "\n",
      "\n",
      "The average difference is: -4.289442265052017\n",
      "The 95% CI is: (-6.366005455568658, -2.212879074535376)\n",
      "Test statistic: -4.040957754996849\n",
      "p-value: 6.13162568885622e-05\n"
     ]
    }
   ],
   "source": [
    "#ANOTHER HYPOTHESIS TESTING: #The Mean Age of those that were arrested\n",
    "updated_df #Between black and Asian\n",
    "black_hispanic_boolean = updated_df[\"SUSPECT_RACE_DESCRIPTION\"] == \"BLACK HISPANIC\"\n",
    "white_boolean = updated_df[\"SUSPECT_RACE_DESCRIPTION\"] == \"WHITE\"\n",
    "\n",
    "black_hispanic_df = updated_df[black_hispanic_boolean]\n",
    "white_df = updated_df[white_boolean]\n",
    "white_df = white_df.dropna()\n",
    "black_hispanic_df = black_hispanic_df.dropna()\n",
    "#Mean Information for both\n",
    "#For black\n",
    "average_bh, ci_bh = CI_mean(black_hispanic_df[\"SUSPECT_REPORTED_AGE\"])\n",
    "print(\"For Black Hispanic Suspects:\")\n",
    "print(average_bh)\n",
    "print(ci_bh)\n",
    "print('\\n')\n",
    "#For Asian Pacific Islander\n",
    "average_white, ci_white = CI_mean(white_df[\"SUSPECT_REPORTED_AGE\"])\n",
    "print(\"For White Suspects:\")\n",
    "print(average_white)\n",
    "print(ci_white)\n",
    "print(\"\\n\")\n",
    "#Now getting the mean difference\n",
    "inf_container = CI_mean_diff(black_hispanic_df[\"SUSPECT_REPORTED_AGE\"], white_df[\"SUSPECT_REPORTED_AGE\"])\n",
    "print(inf_container[0])\n",
    "print(inf_container[1])\n",
    "\n",
    "t_val, p_val = stats.ttest_ind(black_hispanic_df[\"SUSPECT_REPORTED_AGE\"], white_df[\"SUSPECT_REPORTED_AGE\"], equal_var=False)\n",
    "\n",
    "print(\"Test statistic:\", t_val)\n",
    "print(\"p-value:\", p_val)"
   ]
  },
  {
   "cell_type": "markdown",
   "metadata": {
    "id": "OrYfdu7pMQTA"
   },
   "source": [
    "## Fourth Hypothesis Test and Visualization: Linear Regression\n",
    "In the following block of code, I am testing to see if there is a correlation between the age of a suspect and the number of flags raised by an officer"
   ]
  },
  {
   "cell_type": "code",
   "execution_count": 10,
   "metadata": {
    "colab": {
     "base_uri": "https://localhost:8080/",
     "height": 460
    },
    "id": "uQ1Girtx-fCK",
    "outputId": "423aedb5-d3f0-4893-be44-9dcd3bced229"
   },
   "outputs": [
    {
     "data": {
      "text/html": [
       "<table class=\"simpletable\">\n",
       "<caption>OLS Regression Results</caption>\n",
       "<tr>\n",
       "  <th>Dep. Variable:</th>       <td>Total Flags</td>   <th>  R-squared:         </th> <td>   0.965</td> \n",
       "</tr>\n",
       "<tr>\n",
       "  <th>Model:</th>                   <td>OLS</td>       <th>  Adj. R-squared:    </th> <td>   0.965</td> \n",
       "</tr>\n",
       "<tr>\n",
       "  <th>Method:</th>             <td>Least Squares</td>  <th>  F-statistic:       </th> <td>2.728e+05</td>\n",
       "</tr>\n",
       "<tr>\n",
       "  <th>Date:</th>             <td>Mon, 02 May 2022</td> <th>  Prob (F-statistic):</th>  <td>  0.00</td>  \n",
       "</tr>\n",
       "<tr>\n",
       "  <th>Time:</th>                 <td>20:46:55</td>     <th>  Log-Likelihood:    </th> <td> -22413.</td> \n",
       "</tr>\n",
       "<tr>\n",
       "  <th>No. Observations:</th>      <td>  9862</td>      <th>  AIC:               </th> <td>4.483e+04</td>\n",
       "</tr>\n",
       "<tr>\n",
       "  <th>Df Residuals:</th>          <td>  9860</td>      <th>  BIC:               </th> <td>4.484e+04</td>\n",
       "</tr>\n",
       "<tr>\n",
       "  <th>Df Model:</th>              <td>     1</td>      <th>                     </th>     <td> </td>    \n",
       "</tr>\n",
       "<tr>\n",
       "  <th>Covariance Type:</th>      <td>nonrobust</td>    <th>                     </th>     <td> </td>    \n",
       "</tr>\n",
       "</table>\n",
       "<table class=\"simpletable\">\n",
       "<tr>\n",
       "    <td></td>       <th>coef</th>     <th>std err</th>      <th>t</th>      <th>P>|t|</th>  <th>[0.025</th>    <th>0.975]</th>  \n",
       "</tr>\n",
       "<tr>\n",
       "  <th>const</th> <td>    6.6165</td> <td>    0.061</td> <td>  108.129</td> <td> 0.000</td> <td>    6.497</td> <td>    6.736</td>\n",
       "</tr>\n",
       "<tr>\n",
       "  <th>x1</th>    <td>    1.0022</td> <td>    0.002</td> <td>  522.307</td> <td> 0.000</td> <td>    0.998</td> <td>    1.006</td>\n",
       "</tr>\n",
       "</table>\n",
       "<table class=\"simpletable\">\n",
       "<tr>\n",
       "  <th>Omnibus:</th>       <td>860.299</td> <th>  Durbin-Watson:     </th> <td>   1.657</td> \n",
       "</tr>\n",
       "<tr>\n",
       "  <th>Prob(Omnibus):</th> <td> 0.000</td>  <th>  Jarque-Bera (JB):  </th> <td>1098.619</td> \n",
       "</tr>\n",
       "<tr>\n",
       "  <th>Skew:</th>          <td> 0.799</td>  <th>  Prob(JB):          </th> <td>2.74e-239</td>\n",
       "</tr>\n",
       "<tr>\n",
       "  <th>Kurtosis:</th>      <td> 3.349</td>  <th>  Cond. No.          </th> <td>    82.6</td> \n",
       "</tr>\n",
       "</table><br/><br/>Warnings:<br/>[1] Standard Errors assume that the covariance matrix of the errors is correctly specified."
      ],
      "text/plain": [
       "<class 'statsmodels.iolib.summary.Summary'>\n",
       "\"\"\"\n",
       "                            OLS Regression Results                            \n",
       "==============================================================================\n",
       "Dep. Variable:            Total Flags   R-squared:                       0.965\n",
       "Model:                            OLS   Adj. R-squared:                  0.965\n",
       "Method:                 Least Squares   F-statistic:                 2.728e+05\n",
       "Date:                Mon, 02 May 2022   Prob (F-statistic):               0.00\n",
       "Time:                        20:46:55   Log-Likelihood:                -22413.\n",
       "No. Observations:                9862   AIC:                         4.483e+04\n",
       "Df Residuals:                    9860   BIC:                         4.484e+04\n",
       "Df Model:                           1                                         \n",
       "Covariance Type:            nonrobust                                         \n",
       "==============================================================================\n",
       "                 coef    std err          t      P>|t|      [0.025      0.975]\n",
       "------------------------------------------------------------------------------\n",
       "const          6.6165      0.061    108.129      0.000       6.497       6.736\n",
       "x1             1.0022      0.002    522.307      0.000       0.998       1.006\n",
       "==============================================================================\n",
       "Omnibus:                      860.299   Durbin-Watson:                   1.657\n",
       "Prob(Omnibus):                  0.000   Jarque-Bera (JB):             1098.619\n",
       "Skew:                           0.799   Prob(JB):                    2.74e-239\n",
       "Kurtosis:                       3.349   Cond. No.                         82.6\n",
       "==============================================================================\n",
       "\n",
       "Warnings:\n",
       "[1] Standard Errors assume that the covariance matrix of the errors is correctly specified.\n",
       "\"\"\""
      ]
     },
     "metadata": {},
     "output_type": "display_data"
    },
    {
     "name": "stdout",
     "output_type": "stream",
     "text": [
      "Correlation: 0.9824039946342985\n"
     ]
    }
   ],
   "source": [
    "#Hypothesis Testing Related to this\n",
    "columns = updated_dataframe.columns\n",
    "keywords = {\"MINUTES\", \"FLAG\", \"AGE\"}\n",
    "container = []\n",
    "for titles in columns:\n",
    "  splitter = set(titles.split(\"_\"))\n",
    "  #Check for intersection\n",
    "  checker = keywords.intersection(splitter)\n",
    "  if len(checker) > 0:\n",
    "    container.append(titles)\n",
    "updated_dataframe_two = updated_dataframe[container]\n",
    "updated_dataframe_two = updated_dataframe_two.drop([\"OBSERVED_DURATION_MINUTES\"], axis=1)#OBSERVED_DURATION_MINUTES\n",
    "copier = updated_dataframe_two.columns[1:]\n",
    "#Now, we calculate the sum\n",
    "updated_dataframe_two[\"Total Flags\"] = updated_dataframe_two[copier].sum(axis=1)\n",
    "\n",
    "#Check for outlier\n",
    "cleaner = (updated_dataframe_two['STOP_DURATION_MINUTES'] < 800) & (updated_dataframe_two[\"SUSPECT_REPORTED_AGE\"] > 0)\n",
    "updated_dataframe_two = updated_dataframe_two[cleaner]\n",
    "\n",
    "#Now subset based on groups of interest \n",
    "subsetter = updated_dataframe_two[[\"SUSPECT_REPORTED_AGE\", \"Total Flags\"]]\n",
    "\n",
    "#Linear Regression\n",
    "x_vals = subsetter[\"SUSPECT_REPORTED_AGE\"].values\n",
    "y_vals = subsetter[\"Total Flags\"]\n",
    "\n",
    "reg_model = OLS(y_vals, sm.add_constant(x_vals)).fit()\n",
    "display(reg_model.summary())\n",
    "#Correlation:\n",
    "corr = stats.pearsonr(subsetter[\"SUSPECT_REPORTED_AGE\"].values, subsetter[\"Total Flags\"])\n",
    "print(\"Correlation: {}\".format(corr[0]))\n",
    "#FOR THIRD GRAPH (3)\n",
    "#Based on summary: Linear Regression line is y = 1.0021 + 6.6122, p-values < 0.05 (it's 0), and 95% CI of slope is 0.998\t1.006"
   ]
  },
  {
   "cell_type": "code",
   "execution_count": 11,
   "metadata": {
    "colab": {
     "base_uri": "https://localhost:8080/",
     "height": 531
    },
    "id": "0zU6jq8l-mSp",
    "outputId": "13aa2a96-5c45-40e7-9658-b47eb95c17cd"
   },
   "outputs": [
    {
     "data": {
      "image/png": "[encoded data removed]",
      "text/plain": [
       "<Figure size 864x576 with 1 Axes>"
      ]
     },
     "metadata": {
      "needs_background": "light"
     },
     "output_type": "display_data"
    }
   ],
   "source": [
    "b0 = reg_model.params[0]\n",
    "b1 = reg_model.params[1]\n",
    "x_plot = np.linspace(np.min(subsetter['SUSPECT_REPORTED_AGE']), np.max(subsetter['SUSPECT_REPORTED_AGE']), 100)\n",
    "fig, axs = plt.subplots(figsize=(12,8))\n",
    "axs.scatter(subsetter['SUSPECT_REPORTED_AGE'], subsetter['Total Flags'], c='blue', edgecolors='none', s=30)\n",
    "axs.plot(x_plot, x_plot*b1 + b0, color='red')\n",
    "plt.title(\"Suspect Reported Age vs Number of Flags Raised By Officer\", fontsize=20)\n",
    "axs.set_xlabel(\"Age Of Suspect\", fontsize=18)\n",
    "axs.set_ylabel(\"Total Flags Raised By Police Officer\", fontsize=18)\n",
    "axs.tick_params(labelsize=15)\n",
    "plt.show()"
   ]
  },
  {
   "cell_type": "markdown",
   "metadata": {
    "id": "cZeLa8GTOaws"
   },
   "source": [
    "## Fifth Visualization: Horizontal bar charts - Average Stop Duration by Race"
   ]
  },
  {
   "cell_type": "code",
   "execution_count": 12,
   "metadata": {
    "colab": {
     "base_uri": "https://localhost:8080/",
     "height": 419
    },
    "id": "4ArPeqC1ds10",
    "outputId": "246b16e0-3952-4204-b7d3-32d1917f1871"
   },
   "outputs": [
    {
     "data": {
      "image/png": "[encoded data removed]",
      "text/plain": [
       "<Figure size 720x432 with 1 Axes>"
      ]
     },
     "metadata": {
      "needs_background": "light"
     },
     "output_type": "display_data"
    }
   ],
   "source": [
    "#Subsets the dataframe into the columns of interest\n",
    "number_of_minutes = list(updated_dataframe[\"STOP_DURATION_MINUTES\"])\n",
    "bool_vectors = (updated_dataframe[\"SUSPECT_RACE_DESCRIPTION\"] != \"0\") & (updated_dataframe[\"SUSPECT_ARRESTED_FLAG\"] == 1)\n",
    "updated_data = updated_dataframe[[\"SUSPECT_RACE_DESCRIPTION\",\"STOP_DURATION_MINUTES\", \"SUSPECT_ARRESTED_FLAG\"]]\n",
    "updated_data = updated_data[bool_vectors]\n",
    "updated_data = updated_data[[\"SUSPECT_RACE_DESCRIPTION\", \"STOP_DURATION_MINUTES\"]]\n",
    "\n",
    "races = list(set(updated_data[\"SUSPECT_RACE_DESCRIPTION\"].values))\n",
    "races.sort()\n",
    "races\n",
    "\n",
    "average_stop_duration = []\n",
    "\n",
    "#For every race, the mean of the stop duration is calculated\n",
    "for race in races:\n",
    "  vector = updated_data[\"SUSPECT_RACE_DESCRIPTION\"] == race\n",
    "  df = updated_data[vector][\"STOP_DURATION_MINUTES\"]\n",
    "  average = np.mean(list(df.values))\n",
    "  average_stop_duration.append(average)\n",
    "\n",
    "\n",
    "fig, axs = plt.subplots(figsize=(10,6))      \n",
    "once = axs.barh(races, average_stop_duration, color=('lightcoral'))\n",
    "axs.set_title(\"Average Stop Duration by Race\", fontsize=20, fontweight=\"bold\")   \n",
    "axs.set_xlabel(\"Stop Duration (Minutes)\", fontsize=16)\n",
    "axs.set_ylabel(\"Race\", fontsize=16)\n",
    "axs.tick_params(labelsize=16)\n",
    "plt.grid(axis='x')\n",
    "plt.show()\n"
   ]
  },
  {
   "cell_type": "markdown",
   "metadata": {
    "id": "VrbtRGjsOwae"
   },
   "source": [
    "## Fifth Hypothesis Testing: Two Sample t-test\n",
    "In this hypothesis test, I am comparing the average stop duration time between Black and White suspects to determine a difference"
   ]
  },
  {
   "cell_type": "code",
   "execution_count": 13,
   "metadata": {
    "colab": {
     "base_uri": "https://localhost:8080/"
    },
    "id": "v2Fj-AJk_OqX",
    "outputId": "8fff4c18-60db-40b3-c233-7586e97d827a"
   },
   "outputs": [
    {
     "name": "stdout",
     "output_type": "stream",
     "text": [
      "Average stop duration for BLACK suspects\n",
      "Average is: 11.072076612903226 and the 95% CI of mean is: (10.686850075606088, 11.457303150200364)\n",
      "\n",
      "\n",
      "Average stop duration for WHITE suspects\n",
      "Average is: 12.98118811881188 and the 95% CI of mean is: (12.00926498688814, 13.953111250735622)\n",
      "\n",
      "\n",
      "The average difference is: -1.9091115059086547\n",
      "The 95% CI is: (-2.9545941979731385, -0.8636288138441712)\n",
      "\n",
      "\n",
      "Test statistic: -3.5775001215401305\n",
      "p-value: 0.00035920846227281136\n"
     ]
    }
   ],
   "source": [
    "#This block of code looks at the column names and extracts only the important ones based on certain words of interest\n",
    "columns = updated_dataframe.columns\n",
    "keywords = {\"STOP\", \"SUSPECT\", \"SUSPECTED\",\"MINUTES\", \"FLAG\", \"PHYSICAL\", \"FORCE\", \"BACKGROUND\", \"RACE\", \"AGE\", \"BORO\"}\n",
    "container = []\n",
    "for titles in columns:\n",
    "  splitter = set(titles.split(\"_\"))\n",
    "  #Check for intersection\n",
    "  checker = keywords.intersection(splitter)\n",
    "  if len(checker) > 0:\n",
    "    container.append(titles)\n",
    "updated_dataframe = updated_dataframe[container]\n",
    "cleaner = updated_dataframe[\"SUSPECT_RACE_DESCRIPTION\"] != \"0\"\n",
    "updated_dataframe = updated_dataframe[cleaner]\n",
    "updated_dataframe = updated_dataframe.dropna()\n",
    "#Now, we want to get the stop duration minutes of those that are black and white - first subset the dataframe into both races\n",
    "race_bool = (updated_dataframe[\"SUSPECT_RACE_DESCRIPTION\"] == \"BLACK\") | (updated_dataframe[\"SUSPECT_RACE_DESCRIPTION\"] == \"WHITE\")\n",
    "contained_ = updated_dataframe[race_bool]\n",
    "contained_ = contained_[['STOP_DURATION_MINUTES',\"SUSPECT_RACE_DESCRIPTION\"]]\n",
    "#Filter out an outlier\n",
    "duration_outlier = contained_[\"STOP_DURATION_MINUTES\"] < 800\n",
    "contained_ = contained_[duration_outlier]\n",
    "#Find the mean of stop duration minutes for black individuals\n",
    "races = [\"BLACK\", \"WHITE\"]\n",
    "information = group_information(races[0], races[1], contained_)\n",
    "for i in range(len(information)):\n",
    "  print(\"Average stop duration for {} suspects\".format(races[i]))\n",
    "  print(information[i])\n",
    "  print('\\n')\n",
    "\n",
    "#Now, we have to find the 95% of mean difference between the two means\n",
    "subsetter_minutes_black = contained_[contained_[\"SUSPECT_RACE_DESCRIPTION\"] == races[0]][\"STOP_DURATION_MINUTES\"]\n",
    "subsetter_minutes_white = contained_[contained_[\"SUSPECT_RACE_DESCRIPTION\"] == races[1]][\"STOP_DURATION_MINUTES\"]\n",
    "mean_difference_information = CI_mean_diff(subsetter_minutes_black,subsetter_minutes_white)\n",
    "for i in range(len(mean_difference_information)):\n",
    "  print(mean_difference_information[i])\n",
    "\n",
    "#Now , we just calculate the statistic\n",
    "t_val, p_val = stats.ttest_ind(subsetter_minutes_black, subsetter_minutes_white, equal_var=False)\n",
    "print(\"\\n\")\n",
    "print(\"Test statistic:\", t_val)\n",
    "print(\"p-value:\", p_val)\n",
    "\n",
    "#Conclusion: There is a statistically significant difference in the amount of time that black suspects are detained relative to their white counterparts."
   ]
  },
  {
   "cell_type": "markdown",
   "metadata": {
    "id": "erSelmMGM-Od"
   },
   "source": [
    "## Sixth Visualization: Number of Incidents Involving More than Two Types of Physical Force by Race"
   ]
  },
  {
   "cell_type": "code",
   "execution_count": 14,
   "metadata": {
    "colab": {
     "base_uri": "https://localhost:8080/",
     "height": 584
    },
    "id": "v2-ZoxH6--z6",
    "outputId": "39ff7b8c-a2d4-457a-b21b-1549f49c2dc6"
   },
   "outputs": [
    {
     "data": {
      "image/png": "[encoded data removed]",
      "text/plain": [
       "<Figure size 720x432 with 1 Axes>"
      ]
     },
     "metadata": {
      "needs_background": "light"
     },
     "output_type": "display_data"
    }
   ],
   "source": [
    "keyword = \"PHYSICAL\"\n",
    "container = []\n",
    "for titles in updated_dataframe.columns:\n",
    "  splitter = set(titles.split(\"_\"))\n",
    "  if keyword in splitter:\n",
    "    container.append(titles)\n",
    "colnames = deepcopy(container)\n",
    "colnames.insert(0, \"SUSPECT_RACE_DESCRIPTION\")\n",
    "updated_view = updated_dataframe[colnames]\n",
    "updated_view = updated_view.dropna()\n",
    "#Step 1: Filter out the 0 race\n",
    "nonrace_filter = updated_view[\"SUSPECT_RACE_DESCRIPTION\"] != \"0\"\n",
    "updated_view = updated_view[nonrace_filter]\n",
    "races = list(set(updated_view[\"SUSPECT_RACE_DESCRIPTION\"].values))\n",
    "tracker = counter_altercations(updated_view, races)\n",
    "\n",
    "#Makes Bar Chart\n",
    "fig, axs = plt.subplots(figsize=(10,6))        \n",
    "axs.bar(races, tracker['Incidents Involving More than 2 Types of Physical Force'], color=('deepskyblue'))     \n",
    "axs.set_title(\"Incidents Involving More than 2 Types of Physical Force\", fontsize=20, fontweight=\"bold\")   \n",
    "axs.set_xlabel(\"Race\", fontsize=16)\n",
    "axs.set_ylabel(\"Count\", fontsize=16)\n",
    "axs.tick_params(labelsize=10)\n",
    "plt.xticks(rotation = 90) \n",
    "\n",
    "#Adds the label to each bar chart \n",
    "for rect, number in zip(axs.patches, tracker['Incidents Involving More than 2 Types of Physical Force']):\n",
    "    height = rect.get_height()\n",
    "    axs.text(\n",
    "        rect.get_x() + rect.get_width() / 2, height + 5, number, ha=\"center\", va=\"bottom\"\n",
    "    )\n",
    "plt.grid(axis='y')\n",
    "plt.show() "
   ]
  },
  {
   "cell_type": "markdown",
   "metadata": {
    "id": "7ClDo5z4Nuby"
   },
   "source": [
    "## Sixth Hypothesis Testing: Chi Squared Test\n",
    "In this, I am trying to determine to compare the proportions of physical incidents against those that involved no physical incidents in order to determine if there is a connection between physical force and race of a suspect"
   ]
  },
  {
   "cell_type": "code",
   "execution_count": 15,
   "metadata": {
    "colab": {
     "base_uri": "https://localhost:8080/",
     "height": 400
    },
    "id": "ZV_jkl0qNhH9",
    "outputId": "807845f3-938e-4871-9ee3-35e86eaa6066"
   },
   "outputs": [
    {
     "name": "stdout",
     "output_type": "stream",
     "text": [
      "chi2: 10.16892341352536\n",
      "p: 0.07058794522426265\n",
      "dof: 5\n",
      "expected: [[8.78959371e+02 1.31040629e+02]\n",
      " [1.21835952e+01 1.81640475e+00]\n",
      " [8.19781909e+02 1.22218091e+02]\n",
      " [2.00420142e+03 2.98798582e+02]\n",
      " [5.18063875e+03 7.72361250e+02]\n",
      " [1.86234956e+02 2.77650441e+01]]\n"
     ]
    },
    {
     "data": {
      "text/html": [
       "<div>\n",
       "<style scoped>\n",
       "    .dataframe tbody tr th:only-of-type {\n",
       "        vertical-align: middle;\n",
       "    }\n",
       "\n",
       "    .dataframe tbody tr th {\n",
       "        vertical-align: top;\n",
       "    }\n",
       "\n",
       "    .dataframe thead th {\n",
       "        text-align: right;\n",
       "    }\n",
       "</style>\n",
       "<table border=\"1\" class=\"dataframe\">\n",
       "  <thead>\n",
       "    <tr style=\"text-align: right;\">\n",
       "      <th></th>\n",
       "      <th>Incidents Involving More than 2 Types of Physical Force</th>\n",
       "      <th>Incidents with No Force</th>\n",
       "      <th>Proportion of Physical Incidents</th>\n",
       "    </tr>\n",
       "  </thead>\n",
       "  <tbody>\n",
       "    <tr>\n",
       "      <th>0</th>\n",
       "      <td>872</td>\n",
       "      <td>138</td>\n",
       "      <td>0.863366</td>\n",
       "    </tr>\n",
       "    <tr>\n",
       "      <th>1</th>\n",
       "      <td>10</td>\n",
       "      <td>4</td>\n",
       "      <td>0.714286</td>\n",
       "    </tr>\n",
       "    <tr>\n",
       "      <th>2</th>\n",
       "      <td>813</td>\n",
       "      <td>129</td>\n",
       "      <td>0.863057</td>\n",
       "    </tr>\n",
       "    <tr>\n",
       "      <th>3</th>\n",
       "      <td>2031</td>\n",
       "      <td>272</td>\n",
       "      <td>0.881893</td>\n",
       "    </tr>\n",
       "    <tr>\n",
       "      <th>4</th>\n",
       "      <td>5179</td>\n",
       "      <td>774</td>\n",
       "      <td>0.869982</td>\n",
       "    </tr>\n",
       "    <tr>\n",
       "      <th>5</th>\n",
       "      <td>177</td>\n",
       "      <td>37</td>\n",
       "      <td>0.827103</td>\n",
       "    </tr>\n",
       "  </tbody>\n",
       "</table>\n",
       "</div>"
      ],
      "text/plain": [
       "   Incidents Involving More than 2 Types of Physical Force  \\\n",
       "0                                                872         \n",
       "1                                                 10         \n",
       "2                                                813         \n",
       "3                                               2031         \n",
       "4                                               5179         \n",
       "5                                                177         \n",
       "\n",
       "   Incidents with No Force  Proportion of Physical Incidents  \n",
       "0                      138                          0.863366  \n",
       "1                        4                          0.714286  \n",
       "2                      129                          0.863057  \n",
       "3                      272                          0.881893  \n",
       "4                      774                          0.869982  \n",
       "5                       37                          0.827103  "
      ]
     },
     "execution_count": 15,
     "metadata": {},
     "output_type": "execute_result"
    }
   ],
   "source": [
    "table = tracker[[\"Incidents Involving More than 2 Types of Physical Force\", \"Incidents with No Force\"]]\n",
    "chi2, p, dof, expected = stats.chi2_contingency(table)\n",
    "print(\"chi2:\", chi2)\n",
    "print(\"p:\", p)\n",
    "print(\"dof:\", dof)\n",
    "print(\"expected:\", expected)\n",
    "table[\"Proportion of Physical Incidents\"] = table[\"Incidents Involving More than 2 Types of Physical Force\"] / (table[\"Incidents Involving More than 2 Types of Physical Force\"] + table[\"Incidents with No Force\"])\n",
    "table"
   ]
  },
  {
   "cell_type": "markdown",
   "metadata": {
    "id": "lSj1M-rdODkd"
   },
   "source": [
    "## Sixth Hypothesis Testing Part II: Chi Squared Test\n",
    "In this hypothesis testing, I am specifically comparing the proportions of Asian/Pacific Islanders and White Hispanics that experienced more than two types of physical force"
   ]
  },
  {
   "cell_type": "code",
   "execution_count": 16,
   "metadata": {
    "colab": {
     "base_uri": "https://localhost:8080/",
     "height": 238
    },
    "id": "sgr91-gCAypa",
    "outputId": "f68e7450-3bee-4f17-f2a9-becd5909945d"
   },
   "outputs": [
    {
     "name": "stdout",
     "output_type": "stream",
     "text": [
      "Proportion difference is: -0.05479037906671913\n",
      "95% CI is: (-0.1071436179834635, -0.002437140149974766)\n",
      "chi2: 4.9612016427955625\n",
      "p: 0.025922188056786068\n",
      "dof: 1\n",
      "expected: [[2020.27175209  282.72824791]\n",
      " [ 187.72824791   26.27175209]]\n"
     ]
    },
    {
     "data": {
      "text/html": [
       "<div>\n",
       "<style scoped>\n",
       "    .dataframe tbody tr th:only-of-type {\n",
       "        vertical-align: middle;\n",
       "    }\n",
       "\n",
       "    .dataframe tbody tr th {\n",
       "        vertical-align: top;\n",
       "    }\n",
       "\n",
       "    .dataframe thead th {\n",
       "        text-align: right;\n",
       "    }\n",
       "</style>\n",
       "<table border=\"1\" class=\"dataframe\">\n",
       "  <thead>\n",
       "    <tr style=\"text-align: right;\">\n",
       "      <th></th>\n",
       "      <th>Race</th>\n",
       "      <th>Incidents Involving More than 2 Types of Physical Force</th>\n",
       "      <th>Incidents with No Force</th>\n",
       "      <th>Total</th>\n",
       "      <th>Proportions</th>\n",
       "    </tr>\n",
       "  </thead>\n",
       "  <tbody>\n",
       "    <tr>\n",
       "      <th>3</th>\n",
       "      <td>WHITE HISPANIC</td>\n",
       "      <td>2031</td>\n",
       "      <td>272</td>\n",
       "      <td>2303</td>\n",
       "      <td>0.881893</td>\n",
       "    </tr>\n",
       "    <tr>\n",
       "      <th>5</th>\n",
       "      <td>ASIAN / PACIFIC ISLANDER</td>\n",
       "      <td>177</td>\n",
       "      <td>37</td>\n",
       "      <td>214</td>\n",
       "      <td>0.827103</td>\n",
       "    </tr>\n",
       "  </tbody>\n",
       "</table>\n",
       "</div>"
      ],
      "text/plain": [
       "                       Race  \\\n",
       "3            WHITE HISPANIC   \n",
       "5  ASIAN / PACIFIC ISLANDER   \n",
       "\n",
       "   Incidents Involving More than 2 Types of Physical Force  \\\n",
       "3                                               2031         \n",
       "5                                                177         \n",
       "\n",
       "   Incidents with No Force  Total  Proportions  \n",
       "3                      272   2303     0.881893  \n",
       "5                       37    214     0.827103  "
      ]
     },
     "execution_count": 16,
     "metadata": {},
     "output_type": "execute_result"
    }
   ],
   "source": [
    "#Now, I got to explain two groups in particular (black hispanics and white)\n",
    "subset_tracker_bool = (tracker[\"Race\"] == \"ASIAN / PACIFIC ISLANDER\") | (tracker[\"Race\"] == \"WHITE HISPANIC\")\n",
    "subset_tracker = tracker[subset_tracker_bool]\n",
    "subset_tracker = subset_tracker.dropna()\n",
    "\n",
    "\n",
    "#Reporting prop difference\n",
    "prop_, confidence = CI_prop_diff(177, 2031, 214, 2303)\n",
    "print(prop_)\n",
    "print(confidence)\n",
    "#Now, I am reporting the p-value\n",
    "small_table = subset_tracker[[\"Incidents Involving More than 2 Types of Physical Force\", \"Incidents with No Force\"]]\n",
    "chi2, p, dof, expected = stats.chi2_contingency(small_table)\n",
    "\n",
    "print(\"chi2:\", chi2)\n",
    "print(\"p:\", p)\n",
    "print(\"dof:\", dof)\n",
    "print(\"expected:\", expected)\n",
    "subset_tracker[\"Total\"] = subset_tracker[\"Incidents Involving More than 2 Types of Physical Force\"] + subset_tracker[\"Incidents with No Force\"] \n",
    "subset_tracker[\"Proportions\"] = subset_tracker[\"Incidents Involving More than 2 Types of Physical Force\"] / (subset_tracker[\"Incidents Involving More than 2 Types of Physical Force\"] + subset_tracker[\"Incidents with No Force\"])\n",
    "subset_tracker"
   ]
  }
 ],
 "metadata": {
  "colab": {
   "collapsed_sections": [],
   "name": "StopAndFriskProject.ipynb",
   "provenance": []
  },
  "kernelspec": {
   "display_name": "Python 3",
   "language": "python",
   "name": "python3"
  },
  "language_info": {
   "codemirror_mode": {
    "name": "ipython",
    "version": 3
   },
   "file_extension": ".py",
   "mimetype": "text/x-python",
   "name": "python",
   "nbconvert_exporter": "python",
   "pygments_lexer": "ipython3",
   "version": "3.7.3"
  }
 },
 "nbformat": 4,
 "nbformat_minor": 1
}
